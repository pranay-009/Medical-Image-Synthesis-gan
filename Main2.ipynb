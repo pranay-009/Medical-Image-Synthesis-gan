{
 "cells": [
  {
   "cell_type": "markdown",
   "metadata": {},
   "source": [
    "<style>\n",
    "    h1 {\n",
    "        color: white;\n",
    "        text-variant: italic;\n",
    "        text-decoration: 2px underline;\n",
    "    }\n",
    "</style>\n",
    "<h1>Finding an image window from main image</h1>"
   ]
  },
  {
   "cell_type": "code",
   "execution_count": 1,
   "metadata": {},
   "outputs": [],
   "source": [
    "import numpy as np;\n",
    "\n",
    "import skimage;\n",
    "import skimage.io;\n",
    "import skimage.transform;\n",
    "import skimage.util;\n",
    "import skimage.draw;\n",
    "\n",
    "from SpiralGen import get_spiral;"
   ]
  },
  {
   "cell_type": "markdown",
   "metadata": {},
   "source": [
    "### Loading a sample set of images"
   ]
  },
  {
   "cell_type": "code",
   "execution_count": 2,
   "metadata": {},
   "outputs": [],
   "source": [
    "img_4x = skimage.util.img_as_float(skimage.io.imread(r\"T 26A-22 ductal CA/20220402091557029.tif\"));\n",
    "img_10x = skimage.util.img_as_float(skimage.io.imread(r\"T 26A-22 ductal CA/20220402091730689.tif\"));\n",
    "img_40x = skimage.util.img_as_float(skimage.io.imread(r\"T 26A-22 ductal CA/20220402091841778.tif\"));"
   ]
  },
  {
   "cell_type": "markdown",
   "metadata": {},
   "source": [
    "### Following functions returns pivot(center) of the window"
   ]
  },
  {
   "cell_type": "code",
   "execution_count": 3,
   "metadata": {},
   "outputs": [],
   "source": [
    "def find_location(\n",
    "        main_image: np.ndarray,\n",
    "        window_image: np.ndarray,\n",
    "    ) -> tuple:\n",
    "    main_image_height: int = main_image.shape[0];\n",
    "    main_image_width: int = main_image.shape[1];\n",
    "\n",
    "    window_image_height: int = window_image.shape[0];\n",
    "    window_image_width: int = window_image.shape[1];\n",
    "    semi_window_image_height: int = window_image_height // 2;\n",
    "    semi_window_image_width: int = window_image_width // 2;\n",
    "\n",
    "    start_x: int;\n",
    "    start_y: int;\n",
    "    ratio: int = 2; # Use power of 2, i.e. 2,4,8,16....\n",
    "    scanthreshold: int = 64\n",
    "\n",
    "    if window_image_width > scanthreshold and window_image_height > scanthreshold:\n",
    "        start_x, start_y = find_location(\n",
    "            skimage.transform.rescale(main_image, 1/ratio, channel_axis=2),\n",
    "            skimage.transform.rescale(window_image, 1/ratio, channel_axis=2),\n",
    "        );\n",
    "        start_x *= ratio;\n",
    "        start_y *= ratio;\n",
    "        flag: bool = True;\n",
    "    else:\n",
    "        start_x, start_y = main_image_height//2, main_image_width//2;\n",
    "        flag: bool = False;\n",
    "\n",
    "    min_avg_diff: float = 999999;\n",
    "    min_diff_at: tuple = (0,0);\n",
    "    img_slice: np.ndarray;\n",
    "    \n",
    "    r = ( (ratio*2+2) if flag else min(main_image_height - window_image_height, main_image_width - window_image_width));\n",
    "\n",
    "    for x, y in get_spiral(start_x, start_y, step_end=r):\n",
    "        img_slice = main_image[\n",
    "            x - semi_window_image_height: x + semi_window_image_height + (1 if window_image_height%2 else 0),\n",
    "            y - semi_window_image_width: y + semi_window_image_width + (1 if window_image_width%2 else 0)\n",
    "        ];\n",
    "        \n",
    "        current_diff_img: np.ndarray = np.abs(img_slice - window_image);\n",
    "        curr_min_avg_diff: float = np.sum(current_diff_img);\n",
    "\n",
    "        if curr_min_avg_diff < min_avg_diff:\n",
    "            min_avg_diff = curr_min_avg_diff;\n",
    "            min_diff_at = x, y;\n",
    "            skimage.io.imsave(f\"tests//{ratio}_{min_diff_at}_{min_avg_diff}.bmp\", skimage.util.img_as_ubyte(current_diff_img));\n",
    "\n",
    "\n",
    "    return min_diff_at;"
   ]
  },
  {
   "cell_type": "code",
   "execution_count": 4,
   "metadata": {},
   "outputs": [],
   "source": [
    "x1, y1 = find_location(img_4x, skimage.transform.rescale(img_10x, 1/2.5, channel_axis=2))\n",
    "x2, y2 = find_location(img_10x, skimage.transform.rescale(img_40x, 1/4, channel_axis=2))"
   ]
  }
 ],
 "metadata": {
  "interpreter": {
   "hash": "565f57fb187d4b36f1977a1f85173f9321d1c21def0b1b52f51a211b237d5fa1"
  },
  "kernelspec": {
   "display_name": "Python 3.8.12 ('AIML')",
   "language": "python",
   "name": "python3"
  },
  "language_info": {
   "codemirror_mode": {
    "name": "ipython",
    "version": 3
   },
   "file_extension": ".py",
   "mimetype": "text/x-python",
   "name": "python",
   "nbconvert_exporter": "python",
   "pygments_lexer": "ipython3",
   "version": "3.8.12"
  },
  "orig_nbformat": 4
 },
 "nbformat": 4,
 "nbformat_minor": 2
}
